{
 "cells": [
  {
   "cell_type": "code",
   "execution_count": 1,
   "metadata": {},
   "outputs": [],
   "source": [
    "import tensorflow as tf"
   ]
  },
  {
   "cell_type": "code",
   "execution_count": 2,
   "metadata": {},
   "outputs": [],
   "source": [
    "graph1 = tf.Graph()"
   ]
  },
  {
   "cell_type": "code",
   "execution_count": 3,
   "metadata": {},
   "outputs": [],
   "source": [
    "with graph1.as_default():\n",
    "    a = tf.constant([2] , name = \"constant_a\")\n",
    "    b = tf.constant([1] , name = \"constant_b\")"
   ]
  },
  {
   "cell_type": "code",
   "execution_count": 4,
   "metadata": {},
   "outputs": [
    {
     "data": {
      "text/plain": [
       "<tf.Tensor 'constant_a:0' shape=(1,) dtype=int32>"
      ]
     },
     "execution_count": 4,
     "metadata": {},
     "output_type": "execute_result"
    }
   ],
   "source": [
    "a"
   ]
  },
  {
   "cell_type": "code",
   "execution_count": 7,
   "metadata": {},
   "outputs": [
    {
     "name": "stdout",
     "output_type": "stream",
     "text": [
      "[2]\n"
     ]
    }
   ],
   "source": [
    "sess = tf.Session(graph = graph1)\n",
    "result = sess.run(a)\n",
    "print(result)\n",
    "sess.close()"
   ]
  },
  {
   "cell_type": "code",
   "execution_count": 11,
   "metadata": {},
   "outputs": [
    {
     "name": "stdout",
     "output_type": "stream",
     "text": [
      "[3]\n"
     ]
    }
   ],
   "source": [
    "with graph1.as_default():\n",
    "    c = tf.add(a,b)\n",
    "    \n",
    "sess = tf.Session(graph = graph1)\n",
    "result = sess.run(c)\n",
    "print(result)\n",
    "sess.close()"
   ]
  },
  {
   "cell_type": "code",
   "execution_count": 15,
   "metadata": {},
   "outputs": [
    {
     "name": "stdout",
     "output_type": "stream",
     "text": [
      "Scalar (1 entry):\n",
      " [2] \n",
      "\n",
      "Vector (3 entries) :\n",
      " [1 2 3] \n",
      "\n",
      "Matrix (3x3 entries):\n",
      " [[ 1  2  3]\n",
      " [ 2  4  6]\n",
      " [ 4  8 12]] \n",
      "\n",
      "Tensor (3x3x3 entries) :\n",
      " [[[1 1 1]\n",
      "  [2 2 2]\n",
      "  [3 3 3]]\n",
      "\n",
      " [[4 4 4]\n",
      "  [5 5 5]\n",
      "  [6 6 6]]\n",
      "\n",
      " [[7 7 7]\n",
      "  [8 8 8]\n",
      "  [9 9 9]]] \n",
      "\n"
     ]
    }
   ],
   "source": [
    "graph2 = tf.Graph()\n",
    "\n",
    "with graph2.as_default():\n",
    "    Scalar = tf.constant([2])\n",
    "    Vector = tf.constant([1,2,3])\n",
    "    Matrix = tf.constant([ [1,2,3],[2,4,6],[4,8,12] ])\n",
    "    Tensor = tf.constant([ [[1,1,1],[2,2,2],[3,3,3]],[[4,4,4],[5,5,5],[6,6,6]],[[7,7,7],[8,8,8],[9,9,9]] ])\n",
    "    \n",
    "with tf.Session(graph = graph2) as sess:\n",
    "    result = sess.run(Scalar)\n",
    "    print (\"Scalar (1 entry):\\n %s \\n\" % result)\n",
    "    result = sess.run(Vector)\n",
    "    print (\"Vector (3 entries) :\\n %s \\n\" % result)\n",
    "    result = sess.run(Matrix)\n",
    "    print (\"Matrix (3x3 entries):\\n %s \\n\" % result)\n",
    "    result = sess.run(Tensor)\n",
    "    print (\"Tensor (3x3x3 entries) :\\n %s \\n\" % result)"
   ]
  },
  {
   "cell_type": "code",
   "execution_count": 19,
   "metadata": {},
   "outputs": [
    {
     "name": "stdout",
     "output_type": "stream",
     "text": [
      "(1,)\n",
      "(3,)\n",
      "(3, 3)\n",
      "(3, 3, 3)\n"
     ]
    }
   ],
   "source": [
    "print(Scalar.shape)\n",
    "print(Vector.shape)\n",
    "print(Matrix.shape)\n",
    "print(Tensor.shape)"
   ]
  },
  {
   "cell_type": "code",
   "execution_count": 6,
   "metadata": {},
   "outputs": [
    {
     "name": "stdout",
     "output_type": "stream",
     "text": [
      "[[ 3  6 11]\n",
      " [ 7 11 15]\n",
      " [11 16 21]]\n",
      "[[ 3  6 11]\n",
      " [ 7 11 15]\n",
      " [11 16 21]]\n"
     ]
    }
   ],
   "source": [
    "graph3 = tf.Graph()\n",
    "with graph3.as_default():\n",
    "    mat1 = tf.constant([ [1,2,3], [4,5,6], [7,8,9]])\n",
    "    mat2 = tf.constant([ [2,4,8], [3,6,9], [4,8,12] ])\n",
    "    add1 = tf.add(mat1,mat2)\n",
    "    add2 = mat1 + mat2\n",
    "    \n",
    "with tf.Session(graph = graph3) as sess:\n",
    "    result = sess.run(add1)\n",
    "    print(result)\n",
    "    result = sess.run(add2)\n",
    "    print(result)"
   ]
  },
  {
   "cell_type": "code",
   "execution_count": 7,
   "metadata": {},
   "outputs": [
    {
     "name": "stdout",
     "output_type": "stream",
     "text": [
      "[[ 20  40  62]\n",
      " [ 47  94 149]\n",
      " [ 74 148 236]]\n",
      "[[  2   8  24]\n",
      " [ 12  30  54]\n",
      " [ 28  64 108]]\n"
     ]
    }
   ],
   "source": [
    "with graph3.as_default():\n",
    "    mult1 = tf.matmul(mat1,mat2) #multiply two matrices\n",
    "    mult2 = mat1 * mat2 #multiply element by element\n",
    "    \n",
    "with tf.Session(graph = graph3) as sess:\n",
    "    result = sess.run(mult1)\n",
    "    print(result)\n",
    "    result = sess.run(mult2)\n",
    "    print(result)"
   ]
  },
  {
   "cell_type": "code",
   "execution_count": 2,
   "metadata": {},
   "outputs": [
    {
     "name": "stdout",
     "output_type": "stream",
     "text": [
      "0\n",
      "1\n",
      "2\n",
      "3\n"
     ]
    }
   ],
   "source": [
    "v = tf.Variable(0)\n",
    "update = tf.assign(v,v+1)\n",
    "init_op = tf.global_variables_initializer()\n",
    "\n",
    "with tf.Session() as sess:\n",
    "    sess.run(init_op)\n",
    "    print(sess.run(v))\n",
    "    for _ in range(3):\n",
    "        sess.run(update)\n",
    "        print(sess.run(v))\n"
   ]
  },
  {
   "cell_type": "code",
   "execution_count": 4,
   "metadata": {},
   "outputs": [
    {
     "name": "stdout",
     "output_type": "stream",
     "text": [
      "7.0\n"
     ]
    }
   ],
   "source": [
    "a = tf.placeholder(tf.float32)\n",
    "b = a*2\n",
    "\n",
    "with tf.Session() as sess:\n",
    "    result = sess.run(b,feed_dict={a:3.5})\n",
    "    print(result)"
   ]
  },
  {
   "cell_type": "code",
   "execution_count": 5,
   "metadata": {},
   "outputs": [
    {
     "name": "stdout",
     "output_type": "stream",
     "text": [
      "[[[ 2.  4.  6.]\n",
      "  [ 8. 10. 12.]\n",
      "  [14. 16. 18.]\n",
      "  [20. 22. 24.]]\n",
      "\n",
      " [[26. 28. 30.]\n",
      "  [32. 34. 36.]\n",
      "  [38. 40. 42.]\n",
      "  [44. 46. 48.]]]\n"
     ]
    }
   ],
   "source": [
    "dictionary={a: [ [ [1,2,3],[4,5,6],[7,8,9],[10,11,12] ] , [ [13,14,15],[16,17,18],[19,20,21],[22,23,24] ] ] }\n",
    "\n",
    "with tf.Session() as sess:\n",
    "    result = sess.run(b,feed_dict=dictionary)\n",
    "    print (result)"
   ]
  },
  {
   "cell_type": "code",
   "execution_count": null,
   "metadata": {},
   "outputs": [],
   "source": []
  }
 ],
 "metadata": {
  "kernelspec": {
   "display_name": "Python",
   "language": "python",
   "name": "conda-env-python-py"
  },
  "language_info": {
   "codemirror_mode": {
    "name": "ipython",
    "version": 3
   },
   "file_extension": ".py",
   "mimetype": "text/x-python",
   "name": "python",
   "nbconvert_exporter": "python",
   "pygments_lexer": "ipython3",
   "version": "3.6.7"
  }
 },
 "nbformat": 4,
 "nbformat_minor": 4
}
